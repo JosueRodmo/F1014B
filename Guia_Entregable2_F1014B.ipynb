{
 "cells": [
  {
   "cell_type": "markdown",
   "metadata": {},
   "source": [
    "# Guía para segundo entregable del reto: Frenado Electromagnético\n",
    "\n",
    "Clase: F1014B Modelación Computacional de Sistemas Electromagnéticos\n",
    "\n",
    "Autor: Edoardo Bucheli\n",
    "\n",
    "Profesor de Cátedra, Tec de Monterrey Campus Santa Fe"
   ]
  },
  {
   "cell_type": "markdown",
   "metadata": {},
   "source": [
    "## Graficar la Posición y Velocidad con respecto al tiempo\n",
    "\n",
    "En este entregable queremos simular la caída de un diplo magnético frenado por un anillo de con corriente.\n",
    "\n",
    "Para lograr esto definimos la siguiente Ecuación Diferencial de segundo orden,\n",
    "\n",
    "$$m\\frac{d^2z}{dt^2} = -mg - \\frac{9(\\mu\\mu_0)^2a^4}{4R}\\frac{z^2}{\\sqrt{(z^2+a^2)^5}}\\frac{dz}{dt}$$\n",
    "\n",
    "Con los valores iniciales:\n",
    "\n",
    "* $t_0$ = 0\n",
    "* $z_0$ es la altura inicial de tu elección\n",
    "* $z'_0$ es la velocidad inicial, en este caso 0. \n",
    "\n",
    "Donde:\n",
    "\n",
    "* $z$ es un función del tiempo $t$ y representa la altura del dipolo\n",
    "* $t$ es el tiempo desde que soltamos el dipolo en segundos\n",
    "* $m$ es la masa del dipolo.\n",
    "* $g$ es la aceleración (gravedad por ser caída libre)\n",
    "* $\\mu$: es la permeabilidad máxima del MetGlass\n",
    "* $\\mu$ es la permeabilidad del espacio libre\n",
    "* $a$: es el radio del anillo en metros\n",
    "* $R$: es la Resistividad\n",
    "\n",
    "Para efectos prácticos haremos las siguientes substituciones,\n",
    "\n",
    "$$k = \\frac{9(\\mu\\mu_0)^2a^4}{4R}$$\n",
    "\n",
    "y \n",
    "\n",
    "$$p(z) = \\frac{z^2}{\\sqrt{(z^2+a^2)^5}}$$\n",
    "\n",
    "\n",
    "Y dejando a un lado la notación de Leibnitz obtenemos la ED,\n",
    "\n",
    "$$m z'' = -m g - k\\cdot h(z)\\cdot z'$$\n",
    "\n",
    "## Resolver una ED de segundo orden con Runge-Kutta\n",
    "\n",
    "En la sesión pasada, aprendimos a resolver una ED con el método de Runge-Kutta. Sin embargo, recordarás que este método sirve para aproximar la solución a ED's de primer orden con valor inicial de la siguiente forma,\n",
    "\n",
    "$$\\frac{dz}{dt}=f(t,z),\\qquad z(t_0)=z_0$$\n",
    "\n",
    "Pero en este caso, nuestra ED es de segundo orden. Afortunadamente, podemos expresar una ED de segundo orden como un sistema de ED's de primer orden con la siguiente forma.\n",
    "\n",
    "$$x' = f(t,x,y)$$\n",
    "$$y' = g(t,x,y)$$\n",
    "\n",
    "Donde $x$ y $y$ son dos nuevas variables que creamos para sustituir los valores antiguos como se mostrará a continuación.\n",
    "\n",
    "### Generar un sistema de ED de primer orden a partir de una ED de segundo orden\n",
    "\n",
    "Para hacer esto empezamos por generar la siguiente sustitución,\n",
    "\n",
    "$$x = z$$\n",
    "$$y = z'$$\n",
    "\n",
    "Si derivamos ambas expresiones obtenemos las siguientes observaciones,\n",
    "\n",
    "$$x' = z' = y$$\n",
    "$$y'=z''$$\n",
    "\n",
    "Y de igual manera cambiamos los valores iniciales,\n",
    "\n",
    "$$x_0 = z_0$$\n",
    "$$y_0 = z'_0$$\n",
    "\n",
    "Y cuando sustituimos esto en la ED diferencial original, es decir,\n",
    "\n",
    "$$mz'' = -mg - k\\cdot p(z)\\cdot z'$$\n",
    "\n",
    "Obtenemos,\n",
    "\n",
    "$$my' = -mg - k \\cdot p(x) \\cdot y$$\n",
    "\n",
    "Y tomando una de las ecuaciones anteriores, obtenemos el siguiente sistema de ecuaciones,\n",
    "\n",
    "$$x' = y$$\n",
    "$$y' = -g-\\frac{k}{m}\\cdot p(x) \\cdot y$$\n",
    "\n",
    "Donde podemos ver que,\n",
    "\n",
    "* $f(t,x,y) = y$\n",
    "* $g(t,x,y) = -g-\\frac{k}{m}\\cdot p(x) \\cdot y$\n",
    "\n",
    "### Runge-Kutta para sistema de Ecuaciones\n",
    "\n",
    "Podemos resolver estas ED's de manera simultánea usando Runge-Kutta. Esto se logra con las siguientes fórmulas iterativas.\n",
    "\n",
    "$$x_{n+1} = x_n + \\frac{h}{6}*(k_{x1}+2k_{x2}+2k_{x3}+k_{x4})$$\n",
    "$$y_{n+1} = y_n + \\frac{h}{6}*(k_{y1}+2k_{y2}+2k_{y3}+k_{y4})$$\n",
    "\n",
    "Donde:\n",
    "* $k_{x1} = f(t_n,x_n,y_n)$\n",
    "* $k_{y1} = g(t_n,x_n,y_n)$\n",
    "* $k_{x2} = f(t_n+\\frac{1}{2}h,x_n+\\frac{1}{2}h\\cdot k_{x1},y_n+\\frac{1}{2}h\\cdot k_{y1})$\n",
    "* $k_{y2} = g(t_n+\\frac{1}{2}h,x_n+\\frac{1}{2}h\\cdot k_{x1},y_n+\\frac{1}{2}h\\cdot k_{y1})$\n",
    "* $k_{x3} = f(t_n+\\frac{1}{2}h,x_n+\\frac{1}{2}h\\cdot k_{x2},y_n+\\frac{1}{2}h\\cdot k_{y2})$\n",
    "* $k_{y3} = g(t_n+\\frac{1}{2}h,x_n+\\frac{1}{2}h\\cdot k_{x2},y_n+\\frac{1}{2}h\\cdot k_{y2})$\n",
    "* $k_{x4} = f(t_n+h,x_n+hk_{x3},y_n+k_{y3})$\n",
    "* $k_{y4} = g(t_n+h,x_n+hk_{x3},y_n+k_{y3})$\n",
    "\n",
    "### CUIDADO!\n",
    "\n",
    "No pienses en $x$ y $y$ como las componentes del plano cartesiano, recuerda con son sustituciones de $z$ y sus derivadas. En ese sentido $z$ y $t$ son las variables que corresponderían a un plano cartesiano."
   ]
  },
  {
   "cell_type": "markdown",
   "metadata": {},
   "source": [
    "# Código"
   ]
  },
  {
   "cell_type": "markdown",
   "metadata": {},
   "source": [
    "Como siempre, empezemos por importar las librerías necesarias. En este caso agregamos tqdm para poder generar una barra de progreso. Si no estás trabajando en un notebook convendrá usar tqdm en lugar de tqdm_notebook"
   ]
  },
  {
   "cell_type": "code",
   "execution_count": 1,
   "metadata": {},
   "outputs": [],
   "source": [
    "import numpy as np\n",
    "import matplotlib.pyplot as plt\n",
    "from tqdm import tqdm_notebook"
   ]
  },
  {
   "cell_type": "markdown",
   "metadata": {},
   "source": [
    "Definamos las constantes que vamos a utilizar, puedes jugar con estos parámetros pero te recomendamos unos valores iniciales,"
   ]
  },
  {
   "cell_type": "code",
   "execution_count": 2,
   "metadata": {},
   "outputs": [],
   "source": [
    "# Aceleración\n",
    "g = 9.81\n",
    "\n",
    "# Masa del dipolo\n",
    "m = 0.01\n",
    "\n",
    "# es la permeabilidad máxima del MetGlass\n",
    "mu = 1e6\n",
    "\n",
    "# Permeabilidad del espacio libre\n",
    "mu_0 = 4*np.pi*1e-7\n",
    "\n",
    "# Radio del anillo de corriente\n",
    "a = 0.08\n",
    "\n",
    "# Resistividad\n",
    "R = 9e-5"
   ]
  },
  {
   "cell_type": "markdown",
   "metadata": {},
   "source": [
    "Ahora calcula la constante $k$ la cual obtenemos con la siguiente expresión,\n",
    "\n",
    "$$k = \\frac{9(\\mu\\mu_0)^2a^4}{4R}$$"
   ]
  },
  {
   "cell_type": "code",
   "execution_count": 3,
   "metadata": {},
   "outputs": [],
   "source": [
    "k = # Tu código aquí"
   ]
  },
  {
   "cell_type": "markdown",
   "metadata": {},
   "source": [
    "Podemos también definir las funciones $p(x)$, $f(t,x,y)$ y $g(t,x,y)$ como se describieron en la sección anterior."
   ]
  },
  {
   "cell_type": "code",
   "execution_count": 4,
   "metadata": {},
   "outputs": [],
   "source": [
    "def p():\n",
    "    # Tu código aquí\n",
    "    return # Tu código aquí\n",
    "def f():\n",
    "    # Tu código aquí\n",
    "    return # Tu código aquí\n",
    "def g():\n",
    "    # Tu código aquí\n",
    "    return # Tu código aquí"
   ]
  },
  {
   "cell_type": "markdown",
   "metadata": {},
   "source": [
    "Y ahora que estamos listos definimos los valores iniciales y parámetros para el algoritmo"
   ]
  },
  {
   "cell_type": "code",
   "execution_count": 5,
   "metadata": {},
   "outputs": [],
   "source": [
    "# Tiempo inicial\n",
    "t_0 = 0\n",
    "# Timpo final\n",
    "t_f = 6\n",
    "\n",
    "# Altura Inicial z_0\n",
    "x_0 = 10\n",
    "# Velocidad Inicial z'_0\n",
    "y_0 = 0"
   ]
  },
  {
   "cell_type": "markdown",
   "metadata": {},
   "source": [
    "Esta vez, en lugar de detenernos cuando lleguemos a algún valor, definiremos desde el principio una lista de tiempos $t$ de la siguiente manera."
   ]
  },
  {
   "cell_type": "code",
   "execution_count": 6,
   "metadata": {},
   "outputs": [],
   "source": [
    "# Paso horizontal\n",
    "h = 0.01\n",
    "\n",
    "# Número de pasos\n",
    "# Calcula el número de pasos entre t_0 y t_f cuando tienes un paso horizontal de h\n",
    "N = # Tu código aquí\n",
    "\n",
    "# Arreglo con valores del tiempo:\n",
    "# Usa np.linspace() para definir un arreglo que vaya de t_0 a t_n en N pasos\n",
    "t = # Tu código aquí"
   ]
  },
  {
   "cell_type": "markdown",
   "metadata": {},
   "source": [
    "### Runge-Kutta"
   ]
  },
  {
   "cell_type": "markdown",
   "metadata": {},
   "source": [
    "Utilizando la descripción del método de Runge-Kutta de la sección anterior, podemos generar un ciclo que calcule los valores de $x_{n+1}$ y $y_{n+1}$ de manera iterativa."
   ]
  },
  {
   "cell_type": "code",
   "execution_count": 7,
   "metadata": {},
   "outputs": [
    {
     "data": {
      "application/vnd.jupyter.widget-view+json": {
       "model_id": "a2032eed9581484085c5504a77392f1f",
       "version_major": 2,
       "version_minor": 0
      },
      "text/plain": [
       "HBox(children=(IntProgress(value=0, max=357), HTML(value='')))"
      ]
     },
     "metadata": {},
     "output_type": "display_data"
    },
    {
     "name": "stdout",
     "output_type": "stream",
     "text": [
      "\n"
     ]
    }
   ],
   "source": [
    "all_xs = [] \n",
    "all_ys = []\n",
    "\n",
    "# Usar los valores iniciales para el primer paso\n",
    "x_n = x_0\n",
    "y_n = y_0\n",
    "\n",
    "# Iterar para cada paso de la lista de tiempo t\n",
    "# Usamos tqdm para generar una barra de progreso\n",
    "for this_t in tqdm_notebook(t):\n",
    "    \n",
    "    # Para cada iteración debes calcular x_nplus1 y y_nplus1\n",
    "    \n",
    "    # No olvides guardar cada valor x_nplus1 y y_nplus1 calculado \n",
    "    # en las listas all_xs y all_ys\n",
    "    \n",
    "    # Tampoco olvides actualizar x_n y y_n para calcular algo nuevo \n",
    "    # en cada iteración"
   ]
  },
  {
   "cell_type": "markdown",
   "metadata": {},
   "source": [
    "### Visualización\n",
    "\n",
    "Si hiciste tus cálculos de manera correcta, con la siguiente celda podrás visualizar el cambio de la altura y velocidad con respecto al tiempo"
   ]
  },
  {
   "cell_type": "code",
   "execution_count": 8,
   "metadata": {},
   "outputs": [
    {
     "data": {
      "text/plain": [
       "Text(0, 0.5, 'Velocidad [m/s]')"
      ]
     },
     "execution_count": 8,
     "metadata": {},
     "output_type": "execute_result"
    },
    {
     "data": {
      "image/png": "[encoded data removed]",
      "text/plain": [
       "<Figure size 864x216 with 2 Axes>"
      ]
     },
     "metadata": {
      "needs_background": "light"
     },
     "output_type": "display_data"
    }
   ],
   "source": [
    "plt.figure(figsize=(12,3))\n",
    "\n",
    "plt.subplot(1,2,1)\n",
    "\n",
    "plt.plot(t,all_xs)\n",
    "plt.title(\"Altura de Dipolo con Frenado Magnético\")\n",
    "plt.xlabel(\"Tiempo [s]\")\n",
    "plt.ylabel(\"Altura [m]\")\n",
    "\n",
    "plt.subplot(1,2,2)\n",
    "plt.plot(t,all_ys)\n",
    "plt.title(\"Velocidad de Dipolo con Frenado Magnético\")\n",
    "plt.xlabel(\"Tiempo [s]\")\n",
    "plt.ylabel(\"Velocidad [m/s]\")"
   ]
  },
  {
   "cell_type": "code",
   "execution_count": null,
   "metadata": {},
   "outputs": [],
   "source": []
  }
 ],
 "metadata": {
  "kernelspec": {
   "display_name": "Python 3",
   "language": "python",
   "name": "python3"
  },
  "language_info": {
   "codemirror_mode": {
    "name": "ipython",
    "version": 3
   },
   "file_extension": ".py",
   "mimetype": "text/x-python",
   "name": "python",
   "nbconvert_exporter": "python",
   "pygments_lexer": "ipython3",
   "version": "3.6.7"
  }
 },
 "nbformat": 4,
 "nbformat_minor": 2
}
